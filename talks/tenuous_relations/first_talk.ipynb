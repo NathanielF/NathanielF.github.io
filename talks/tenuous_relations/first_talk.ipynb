{
  "cells": [
    {
      "cell_type": "raw",
      "metadata": {},
      "source": [
        "---\n",
        "title: \"Tenuous Relations and Timeseries Analysis\"\n",
        "author: \"Nathaniel Forde\"\n",
        "date: \"2023-02-04\"\n",
        "categories: [bayesian, VAR, timeseries analysis]\n",
        "keep-ipynb: true\n",
        "self-contained: true\n",
        "execute: \n",
        "  enabled: true\n",
        "---"
      ],
      "id": "491d9063"
    },
    {
      "cell_type": "markdown",
      "metadata": {},
      "source": [
        "# Hierarchical Bayesian VARs \n",
        "\n",
        "\n",
        "```{html}\n",
        "\n",
        "<embed width=\"100%\" height=\"800\" type=\"application/pdf\" src=\"tenuous_relations_presenation.pdf\">\n",
        "\n",
        "```"
      ],
      "id": "6b66f9e9"
    }
  ],
  "metadata": {
    "kernelspec": {
      "name": "pymc_ex_nf",
      "language": "python",
      "display_name": "pymc_ex_nf"
    }
  },
  "nbformat": 4,
  "nbformat_minor": 5
}