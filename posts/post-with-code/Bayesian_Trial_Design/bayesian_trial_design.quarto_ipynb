{
  "cells": [
    {
      "cell_type": "markdown",
      "metadata": {},
      "source": [
        "---\n",
        "title: \"Bayesian Trial Design\"\n",
        "date: \"2024-04-07\"\n",
        "categories: [\"probability\", \"generalised additive models\", \"testing\"]\n",
        "keep-ipynb: true\n",
        "self-contained: true\n",
        "draft: true\n",
        "execute: \n",
        "  enabled: true\n",
        "jupyter: pymc_causal\n",
        "image: \"Spline.png\"\n",
        "author:\n",
        "    - url: https://nathanielf.github.io/\n",
        "    - affiliation: PyMC dev\n",
        "citation: true\n",
        "---\n",
        "\n",
        "\n",
        "Test"
      ],
      "id": "b2fcffad"
    }
  ],
  "metadata": {
    "kernelspec": {
      "name": "pymc_causal",
      "language": "python",
      "display_name": "pymc_causal",
      "path": "/Users/nathanielforde/Library/Jupyter/kernels/pymc_causal"
    }
  },
  "nbformat": 4,
  "nbformat_minor": 5
}