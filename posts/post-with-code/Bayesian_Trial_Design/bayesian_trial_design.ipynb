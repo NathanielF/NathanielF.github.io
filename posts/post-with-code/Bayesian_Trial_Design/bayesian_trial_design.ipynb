{
  "cells": [
    {
      "cell_type": "raw",
      "metadata": {},
      "source": [
        "---\n",
        "title: Bayesian Trial Design\n",
        "date: '2024-04-07'\n",
        "categories:\n",
        "  - probability\n",
        "  - generalised additive models\n",
        "  - testing\n",
        "keep-ipynb: true\n",
        "self-contained: true\n",
        "draft: true\n",
        "execute:\n",
        "  enabled: true\n",
        "image: Spline.png\n",
        "author:\n",
        "  - url: 'https://nathanielf.github.io/'\n",
        "  - affiliation: PyMC dev\n",
        "citation: true\n",
        "---"
      ],
      "id": "0316f171"
    },
    {
      "cell_type": "markdown",
      "metadata": {},
      "source": [
        "Test"
      ],
      "id": "5cc7d791"
    }
  ],
  "metadata": {
    "kernelspec": {
      "name": "pymc_causal",
      "language": "python",
      "display_name": "pymc_causal"
    }
  },
  "nbformat": 4,
  "nbformat_minor": 5
}