{
  "cells": [
    {
      "cell_type": "raw",
      "metadata": {},
      "source": [
        "---\n",
        "title: Bayesian Trial Design\n",
        "date: '2024-04-07'\n",
        "categories:\n",
        "  - probability\n",
        "  - generalised additive models\n",
        "  - testing\n",
        "keep-ipynb: true\n",
        "self-contained: true\n",
        "draft: true\n",
        "execute:\n",
        "  enabled: true\n",
        "image: Spline.png\n",
        "author:\n",
        "  - url: 'https://nathanielf.github.io/'\n",
        "  - affiliation: PyMC dev\n",
        "citation: true\n",
        "---"
      ],
      "id": "eaa45541"
    },
    {
      "cell_type": "markdown",
      "metadata": {},
      "source": [
        "Test"
      ],
      "id": "be2d23bd"
    }
  ],
  "metadata": {
    "kernelspec": {
      "name": "pymc_causal",
      "language": "python",
      "display_name": "pymc_causal"
    }
  },
  "nbformat": 4,
  "nbformat_minor": 5
}