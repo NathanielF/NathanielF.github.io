{
 "cells": [
  {
   "cell_type": "raw",
   "id": "33202c75",
   "metadata": {},
   "source": [
    "---\n",
    "title: Bayesian Trial Design\n",
    "date: '2024-04-07'\n",
    "categories:\n",
    "  - probability\n",
    "  - generalised additive models\n",
    "  - testing\n",
    "keep-ipynb: true\n",
    "self-contained: true\n",
    "draft: true\n",
    "execute:\n",
    "  enabled: true\n",
    "image: Spline.png\n",
    "author:\n",
    "  - url: 'https://nathanielf.github.io/'\n",
    "  - affiliation: PyMC dev\n",
    "citation: true\n",
    "---"
   ]
  },
  {
   "cell_type": "markdown",
   "id": "24d01ddd",
   "metadata": {},
   "source": [
    "Test"
   ]
  }
 ],
 "metadata": {
  "kernelspec": {
   "display_name": "pymc_causal",
   "language": "python",
   "name": "pymc_causal"
  },
  "language_info": {
   "codemirror_mode": {
    "name": "ipython",
    "version": 3
   },
   "file_extension": ".py",
   "mimetype": "text/x-python",
   "name": "python",
   "nbconvert_exporter": "python",
   "pygments_lexer": "ipython3",
   "version": "3.11.7"
  }
 },
 "nbformat": 4,
 "nbformat_minor": 5
}
