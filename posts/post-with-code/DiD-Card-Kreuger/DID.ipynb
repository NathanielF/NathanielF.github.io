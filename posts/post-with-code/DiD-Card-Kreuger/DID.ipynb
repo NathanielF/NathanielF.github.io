{
  "cells": [
    {
      "cell_type": "raw",
      "metadata": {},
      "source": [
        "---\n",
        "title: \"Differences in Differences\"\n",
        "author: \"Nathaniel Forde\"\n",
        "date: \"2023-02-04\"\n",
        "categories: [card-kreuger, causal-inference, diff-in-diff]\n",
        "keep-ipynb: true\n",
        "image: \"Diff_in_Diff.png\"\n",
        "self-contained: true\n",
        "execute: \n",
        "  enabled: true\n",
        "---"
      ],
      "id": "8902748e"
    },
    {
      "cell_type": "markdown",
      "metadata": {},
      "source": [
        "There is a voluminous literature about how to measure causal impact using the differences-in-differences technique. It includes multiple controversies over how the technique can be applied to panel data with the problems of time-varying heterogeneity. These are fraught and varied issues, and we'll elide them for now. \n",
        "\n",
        "Instead we'll look at one of the earliest analyses in the literature, popularised by Card and Krueger in 1994. \n"
      ],
      "id": "a10b41f2"
    },
    {
      "cell_type": "code",
      "metadata": {},
      "source": [
        "import pandas as pd\n",
        "import numpy as np\n",
        "import matplotlib.pyplot as plt\n",
        "import statsmodels.api as sm\n",
        "import statsmodels.formula.api as smf\n",
        "from stargazer.stargazer import Stargazer"
      ],
      "id": "9e630fbd",
      "execution_count": null,
      "outputs": []
    },
    {
      "cell_type": "markdown",
      "metadata": {},
      "source": [
        "## The Data\n",
        "\n",
        "The data from the Card and Krueger study reports measures of employement by location in bordering states of New Jersey and Pennsylvania afer April 1st, 1992 when New Jersey’s minimum wage rose from $4.25 to $5.05 per hour. The interest is in the effect of the different state policies relating to minimum wage. There is juncture in time after which New Jersey enacts a minimum wage policy which is anticipated to have a meaningful negative impact on employment figures. \n"
      ],
      "id": "cbb1b27e"
    },
    {
      "cell_type": "code",
      "metadata": {},
      "source": [
        "# Load the Data from the minumum wage study\n",
        "df_ck = pd.read_csv('CK1994.txt', sep='\\t')\n",
        "\n",
        "## Calculate the price of an average meal.\n",
        "df_ck['price'] = df_ck[['pricesoda', 'pricefry', 'priceentree']].sum(axis=1)\n",
        "\n",
        "# Count of employees\n",
        "df_ck['employees'] = df_ck.apply(lambda x: x['empft'] + x['nmgrs'] + 0.5*x['emppt'], axis=1)\n",
        "\n",
        "# Interaction of state and time for use in OLS\n",
        "df_ck['treatment'] = df_ck['state']*df_ck['time']\n",
        "\n",
        "# Group by Region\n",
        "df_ck['group'] = np.where(df_ck['southj'], 'NJ south',\n",
        "                    np.where(df_ck['centralj'], 'NJ central', \n",
        "                      np.where(df_ck['northj'], 'NJ North', \n",
        "                        np.where(df_ck['pa1'], 'PA 1', \n",
        "                          np.where(df_ck['pa2'], 'PA 2', np.nan)))))\n",
        "\n",
        "\n",
        "df_ck.head()"
      ],
      "id": "213a426f",
      "execution_count": null,
      "outputs": []
    },
    {
      "cell_type": "markdown",
      "metadata": {},
      "source": [
        "The crucial results reported in the paper show a surprising subversion of expecation. The idea is that the neigbouring states should have comparable working conditions and incentives to employment up until the initiative of the policy change. Hence, it is argued that the difference between the states before and after the change can be a gauge of the causal impact of that policy. The data they looked at surveyed 410 fast-food restaurants in New Jersey and eastern Pennsylvania before and after the rise in minimum wage for New Jersey.\n"
      ],
      "id": "1ca3b424"
    },
    {
      "cell_type": "code",
      "metadata": {},
      "source": [
        "pivot = (df_ck[['state', 'time', 'employees']].dropna()\n",
        "  .groupby(['state', 'time'])[['employees']].mean()\n",
        "  .reset_index()\n",
        "  .pivot(index='time', columns='state', values='employees')\n",
        "  )\n",
        "pivot = pivot.append(pivot.iloc[1] - pivot.iloc[0], ignore_index=True)\n",
        "pivot.columns = ['PA', 'NJ']\n",
        "pivot['Diff'] = pivot['NJ'] - pivot['PA']\n",
        "pivot.index = ['Before', 'After', 'Diff']\n",
        "pivot"
      ],
      "id": "f386fe8f",
      "execution_count": null,
      "outputs": []
    },
    {
      "cell_type": "markdown",
      "metadata": {},
      "source": [
        "The result here is, by traditional economic logic, surprising in that they \"find no indication that the rise in the minimum wage reduced employment.\" The above table reports the raw differences in average employment per restaurant. That's it. That's the quasi-experiemntal design that launched a thousand imitations. \n"
      ],
      "id": "2e4a6411"
    },
    {
      "cell_type": "code",
      "metadata": {},
      "source": [
        "fig, ax = plt.subplots()\n",
        "ax.plot(['Before', 'After'], [pivot.iloc[0]['PA'],  pivot.iloc[1]['PA']], '-o', label='Pennsylvania')\n",
        "ax.plot(['Before', 'After'], [pivot.iloc[0]['NJ'],  pivot.iloc[1]['NJ']],'-o', label='New Jersey')\n",
        "ax.plot(['Before', 'After'], [pivot.iloc[0]['NJ'],  pivot.iloc[2]['PA'] +pivot.iloc[0]['NJ']], '--', color='darkorange', label='New Jersey Counterfactual')\n",
        "ax.set_title(\"Visualising the Counterfactual\")\n",
        "ax.plot((1, 1), (18, 21), '--', color='grey', label='treatment effect')\n",
        "ax.legend()"
      ],
      "id": "0234768a",
      "execution_count": null,
      "outputs": []
    },
    {
      "cell_type": "markdown",
      "metadata": {},
      "source": [
        "## A Persuasive Design\n",
        "\n",
        "It's not just a simple table. The paper was compelling precisely because the design was persuasive, and the Pennsylvania's future is a plausible representation of New Jersey's counterfactual future. \n"
      ],
      "id": "a46d2ffe"
    },
    {
      "cell_type": "code",
      "metadata": {},
      "source": [
        "fig, axs = plt.subplots(1, 2, figsize=(10, 7))\n",
        "axs = axs.flatten()\n",
        "before = df_ck[df_ck['time'] == 0]\n",
        "after = df_ck[df_ck['time'] == 1]\n",
        "axs[0].hist(before[before['state'] == 0]['wage_st'], alpha=0.4, bins=20, density=True, ec='black', label='Pennsylvania Before')\n",
        "axs[0].hist(before[before['state'] == 1]['wage_st'], alpha=0.4, bins=20, density=True, ec='black', label='New Jersey Before')\n",
        "axs[0].set_xlabel(\"Wage per Hour in $\")\n",
        "axs[0].legend()\n",
        "axs[1].hist(after[after['state'] == 0]['wage_st'], alpha=0.4, bins=15, density=True, ec='black', label='Pennsylvania After')\n",
        "axs[1].hist(after[after['state'] == 1]['wage_st'], alpha=0.4, bins=15, density=True, ec='black', label='New Jersey After')\n",
        "axs[1].set_xlabel(\"Wage per Hour in $\")\n",
        "axs[1].legend()\n",
        "axs[1].set_title(\"Wage Distribution After\")\n",
        "axs[0].set_title(\"Wage Distribution Before\");"
      ],
      "id": "1cba82d1",
      "execution_count": null,
      "outputs": []
    },
    {
      "cell_type": "markdown",
      "metadata": {},
      "source": [
        "And the corressponding view for the employment figures shows that the difference between before and after periods, for both states are centered around zero. \n"
      ],
      "id": "4be6d28b"
    },
    {
      "cell_type": "code",
      "metadata": {},
      "source": [
        "fig, axs = plt.subplots(1, 3, figsize=(12, 5))\n",
        "axs = axs.flatten()\n",
        "before = df_ck[df_ck['time'] == 0]\n",
        "after = df_ck[df_ck['time'] == 1]\n",
        "axs[0].hist(before[before['state'] == 0]['employees'], alpha=0.4, bins=20, density=True, ec='black', label='Pennsylvania Before')\n",
        "axs[0].hist(before[before['state'] == 1]['employees'], alpha=0.4, bins=20, density=True, ec='black', label='New Jersey Before')\n",
        "axs[0].set_xlabel(\"Employees\")\n",
        "axs[0].legend()\n",
        "axs[2].hist(after[after['state'] == 0]['employees'], alpha=0.4, bins=15, density=True, ec='black', label='Pennsylvania After')\n",
        "\n",
        "diff_p = after[after['state'] == 0][['store', 'employees']].merge(before[before['state'] == 0][['store', 'employees']], left_on='store', right_on='store')\n",
        "\n",
        "diff_nj = after[after['state'] == 1][['store', 'employees']].merge(before[before['state'] == 1][['store', 'employees']], left_on='store', right_on='store')\n",
        "\n",
        "axs[1].hist(diff_p['employees_x'] - diff_p['employees_y'], alpha=0.4, bins=15, density=True, ec='black', label='Pennsylvania Diff')\n",
        "axs[1].hist(diff_nj['employees_x'] - diff_nj['employees_y'], alpha=0.4, bins=15, density=True, ec='black', label='NJ Diff')\n",
        "axs[1].set_xlabel(\"Before - After\")\n",
        "axs[1].legend()\n",
        "\n",
        "axs[2].hist(after[after['state'] == 1]['employees'], alpha=0.4, bins=15, density=True, ec='black', label='New Jersey After')\n",
        "axs[2].set_xlabel(\"Employees\")\n",
        "axs[2].legend()\n",
        "axs[2].set_title(\"Employed Distribution After\")\n",
        "axs[1].set_title(\"Difference of Employed Distribution\")\n",
        "axs[0].set_title(\"Employed Distribution Before\");\n"
      ],
      "id": "06f712ad",
      "execution_count": null,
      "outputs": []
    },
    {
      "cell_type": "markdown",
      "metadata": {},
      "source": [
        "## Robustness to Controls\n",
        "\n",
        "The robustness of the effect might, in principle, be moderated or refined by other factors. So it's worth exploring the parameter fits for a variety of models. First we recover the simple differences-in-differences control using, and then for other subsequent moodels we add controls for the the location, food chain and whether the restaurant is co-owned. All models recover effectively the same estimate for the interaction term of state over time, which is our differences-in-differences estimate. \n"
      ],
      "id": "d1828986"
    },
    {
      "cell_type": "code",
      "metadata": {},
      "source": [
        "temp = df_ck[['employees', 'northj', 'centralj', 'pa1', 'pa2', 'time', 'treatment', 'chain', 'state', 'co_owned']].dropna()\n",
        "temp[['chain_1', 'chain_2', 'chain_3', 'chain_4']] = pd.get_dummies(temp['chain'])\n",
        "model_0 = smf.ols(formula='employees ~ state + time + treatment', data=temp).fit()\n",
        "model_1 = smf.ols(formula='employees ~ state + time + chain_1 + chain_2 + chain_3 + treatment', data=temp).fit()\n",
        "model_2 = smf.ols(formula='employees ~ centralj + pa1 + pa2 + time + treatment', data=temp).fit()\n",
        "\n",
        "model_3 = smf.ols(formula='employees ~ centralj + pa1 + pa2 + time + chain_1 + chain_2 + chain_3 + treatment', data=temp).fit()\n",
        "\n",
        "model_4 = smf.ols(formula='employees ~ centralj + pa1 + pa2 + time + chain_1 + chain_2 + chain_3 + co_owned + treatment', data=temp).fit()\n",
        "\n",
        "stargazer = Stargazer([model_0, model_1, model_2, model_3])\n",
        "stargazer.render_html()"
      ],
      "id": "e86cc428",
      "execution_count": null,
      "outputs": []
    },
    {
      "cell_type": "markdown",
      "metadata": {},
      "source": [
        "The effect is consisteny across the model specification. This is evidence of a robust effect. What happens if we look at a different outcome variable? Does the change in policy impact the price of the meal by location?\n"
      ],
      "id": "2b375769"
    },
    {
      "cell_type": "code",
      "metadata": {},
      "source": [
        "temp = df_ck[['price', 'northj', 'centralj', 'pa1', 'pa2', 'time', 'treatment', 'chain', 'state', 'co_owned']].dropna()\n",
        "temp[['chain_1', 'chain_2', 'chain_3', 'chain_4']] = pd.get_dummies(temp['chain'])\n",
        "model_0 = smf.ols(formula='price ~ state + time + treatment', data=temp).fit()\n",
        "model_1 = smf.ols(formula='price ~ state + time + chain_1 + chain_2 + chain_3 + treatment', data=temp).fit()\n",
        "model_2 = smf.ols(formula='price ~ centralj + pa1 + pa2 + time + treatment', data=temp).fit()\n",
        "\n",
        "model_3 = smf.ols(formula='price ~ centralj + pa1 + pa2 + time + chain_1 + chain_2 + chain_3 + treatment', data=temp).fit()\n",
        "\n",
        "model_4 = smf.ols(formula='price ~ centralj + pa1 + pa2 + time + chain_1 + chain_2 + chain_3 + co_owned + treatment', data=temp).fit()\n",
        "\n",
        "stargazer = Stargazer([model_0, model_1, model_2, model_3])\n",
        "stargazer.render_html()"
      ],
      "id": "83b1e265",
      "execution_count": null,
      "outputs": []
    },
    {
      "cell_type": "markdown",
      "metadata": {},
      "source": [
        "## Impact on Consumers?\n",
        "\n",
        "The effects on price of a meal is much more stable and seemingly not impacted in the same degree as we saw in employment numbers. In fact the effects seem close to negligible. This contextual information suggests that the increased wages have not lead (in the same timeframe) to extra costs for the consumer. \n"
      ],
      "id": "0f7d24c6"
    },
    {
      "cell_type": "code",
      "metadata": {},
      "source": [
        "fig, axs = plt.subplots(1, 2, figsize=(10, 7))\n",
        "axs = axs.flatten()\n",
        "before = df_ck[df_ck['time'] == 0]\n",
        "after = df_ck[df_ck['time'] == 1]\n",
        "axs[0].hist(before[before['state'] == 0]['price'], alpha=0.4, bins=20, density=True, ec='black', label='Pennsylvania Before')\n",
        "axs[0].hist(before[before['state'] == 1]['price'], alpha=0.4, bins=20, density=True, ec='black', label='New Jersey Before')\n",
        "axs[0].set_xlabel(\"Price per Meal in $\")\n",
        "axs[0].legend()\n",
        "axs[1].hist(after[after['state'] == 0]['price'], alpha=0.4, bins=15, density=True, ec='black', label='Pennsylvania After')\n",
        "axs[1].hist(after[after['state'] == 1]['price'], alpha=0.4, bins=15, density=True, ec='black', label='New Jersey After')\n",
        "axs[1].set_xlabel(\"Price per Meal in $\")\n",
        "axs[1].legend()\n",
        "axs[1].set_title(\"Price Distribution After\")\n",
        "axs[0].set_title(\"Price Distribution Before\");\n"
      ],
      "id": "f03a1eea",
      "execution_count": null,
      "outputs": []
    },
    {
      "cell_type": "markdown",
      "metadata": {},
      "source": [
        "It is this combination of details that made the Card and Kreuger study surprising and impactful. There is a clear quasi-experimental design, a compelling narrative and a counter-intuitive conclusion. The methodology almost seems too simple, too straightforward. Much of the plausibility of the inferences gets bundled into the contrast between the treatment group and our pseudo-control. So far we've avoided precise mathematical statement of the DiD estimator, but being more precise allows us to say something about when this estimation technique can go wrong. \n",
        "\n",
        "## When DiD goes Wrong\n",
        "\n",
        "$$\\widehat{\\delta}^{2\\times 2}_{kU} = \\bigg(E\\big[Y_k  | Post\\big] - E\\big[Y_k  | Pre\\big]\\bigg)- \\bigg(E\\big[Y_U  | Post\\big] - E\\big[Y_U  | Pre\\big]\\bigg)$$"
      ],
      "id": "acdcd0cf"
    }
  ],
  "metadata": {
    "kernelspec": {
      "name": "examined_algorithms",
      "language": "python",
      "display_name": "examined_algorithms"
    }
  },
  "nbformat": 4,
  "nbformat_minor": 5
}