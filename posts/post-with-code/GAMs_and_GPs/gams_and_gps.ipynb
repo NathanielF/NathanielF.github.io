{
  "cells": [
    {
      "cell_type": "raw",
      "metadata": {},
      "source": [
        "---\n",
        "title: GAMs and GPs\n",
        "author: Nathaniel Forde\n",
        "date: '2024-02-15'\n",
        "categories:\n",
        "  - probability\n",
        "  - generalised additive models\n",
        "  - gaussian processes\n",
        "keep-ipynb: true\n",
        "self-contained: true\n",
        "draft: true\n",
        "execute:\n",
        "  enabled: true\n",
        "---"
      ],
      "id": "1ad279dd"
    },
    {
      "cell_type": "code",
      "metadata": {},
      "source": [
        "import pandas as pd\n",
        "import matplotlib.pyplot as plt\n",
        "import bambi as bmb\n",
        "import seaborn as sns\n",
        "from pygam.datasets import mcycle\n",
        "from pygam import LinearGAM, s, f, GAM, l"
      ],
      "id": "3f783a47",
      "execution_count": null,
      "outputs": []
    },
    {
      "cell_type": "code",
      "metadata": {},
      "source": [
        "# url for the data is: \n",
        "url = \"https://raw.githubusercontent.com/m-clark/generalized-additive-models/master/data/pisasci2006.csv\"\n",
        "pisa = pd.read_csv(url)\n",
        "pisa"
      ],
      "id": "eeac71aa",
      "execution_count": null,
      "outputs": []
    },
    {
      "cell_type": "markdown",
      "metadata": {},
      "source": [
        "## Variation due GAM penalisation and parameterisation\n"
      ],
      "id": "0657d341"
    },
    {
      "cell_type": "code",
      "metadata": {},
      "source": [
        "X, y = mcycle(return_X_y=True)\n",
        "\n",
        "gam1 = LinearGAM(s(0, n_splines=5)).fit(X, y)\n",
        "gam2 = LinearGAM(s(0, n_splines=10)).fit(X, y)\n",
        "gam3 = LinearGAM(s(0, n_splines=15)).fit(X, y)\n",
        "gam4 = LinearGAM(s(0, lam=.1)).fit(X, y)\n",
        "gam5 = LinearGAM(s(0, lam=.3)).fit(X, y)\n",
        "gam6 = LinearGAM(s(0, lam=.6)).fit(X, y)\n",
        "\n",
        "\n",
        "def plot_fit(gam, X, y, ax, t, c1='b', c2='r'):\n",
        "    XX = gam.generate_X_grid(term=0, n=500)\n",
        "\n",
        "    ax.plot(XX, gam.predict(XX), color=c2, linestyle='--')\n",
        "    ax.plot(XX, gam.prediction_intervals(XX, width=.95), color=c1, ls='--')\n",
        "\n",
        "    ax.scatter(X, y, facecolor='gray', edgecolors='none')\n",
        "    ax.set_title(f'95% prediction interval with {t}');\n",
        "\n",
        "fig, axs = plt.subplots(3,2, figsize=(10, 15))\n",
        "axs = axs.flatten()\n",
        "titles = ['5_splines', '10_splines', '15_splines', \n",
        "'lam=.1', 'lam=.3', 'lam=.6']\n",
        "gs = [gam1, gam2, gam3, gam4, gam5, gam6]\n",
        "for ax, g, t in zip(axs, gs, titles):\n",
        "    plot_fit(g, X, y, ax, t)\n"
      ],
      "id": "ebbbb7f2",
      "execution_count": null,
      "outputs": []
    },
    {
      "cell_type": "markdown",
      "metadata": {},
      "source": [
        "## Optimising The Parameter Setting\n"
      ],
      "id": "66f61b9f"
    },
    {
      "cell_type": "code",
      "metadata": {},
      "source": [
        "## model raw\n",
        "gam_raw = LinearGAM(s(0)).fit(X, y)\n",
        "gam_raw.summary()"
      ],
      "id": "7aaffadd",
      "execution_count": null,
      "outputs": []
    },
    {
      "cell_type": "code",
      "metadata": {},
      "source": [
        "## model optimised\n",
        "gam = LinearGAM(s(0))\n",
        "gam.gridsearch(X, y)\n",
        "gam.summary()"
      ],
      "id": "5af37b38",
      "execution_count": null,
      "outputs": []
    },
    {
      "cell_type": "code",
      "metadata": {},
      "source": [
        "fig, ax = plt.subplots(figsize=(10, 6))\n",
        "plot_fit(gam_raw, X, y, ax, \"Unoptimised Fit\", c1='orange', c2='green')\n",
        "plot_fit(gam, X, y, ax, \"Optimised Fit\")"
      ],
      "id": "47146389",
      "execution_count": null,
      "outputs": []
    },
    {
      "cell_type": "code",
      "metadata": {},
      "source": [
        "fig, ax = plt.subplots(figsize=(10, 6))\n",
        "plot_fit(gam, X, y, ax, \"Optimised Fit\")"
      ],
      "id": "2b810a05",
      "execution_count": null,
      "outputs": []
    },
    {
      "cell_type": "code",
      "metadata": {},
      "source": [
        "plt.figure(figsize=(10,20), dpi= 80)\n",
        "g = sns.pairplot(pisa[['Overall', 'Health', 'Support', 'Edu']], kind=\"reg\", diag_kind='kde')\n",
        "g.fig.suptitle(\"Pair Plot of Score Metrics\", y=1.08, fontsize=20)"
      ],
      "id": "48a9e26a",
      "execution_count": null,
      "outputs": []
    },
    {
      "cell_type": "code",
      "metadata": {},
      "source": [
        "model_df = pisa[['Overall', 'Edu', 'Health', 'Support', 'Income']].dropna()\n",
        "X = model_df[['Income', 'Edu', 'Health']].values\n",
        "y = model_df['Overall'].values\n",
        "gam = LinearGAM(s(0, n_splines=20) + s(1, n_splines=15) +s(2, n_splines=10)).fit(X, y)\n",
        "gam.gridsearch(X, y)\n",
        "\n",
        "\n",
        "gam.summary()"
      ],
      "id": "bcbdf561",
      "execution_count": null,
      "outputs": []
    },
    {
      "cell_type": "code",
      "metadata": {},
      "source": [
        "import statsmodels.api as sm\n",
        "\n",
        "sm.OLS(y, sm.add_constant(X)).fit().summary()\n"
      ],
      "id": "79bd9feb",
      "execution_count": null,
      "outputs": []
    },
    {
      "cell_type": "code",
      "metadata": {},
      "source": [
        "fig, axs = plt.subplots(1,3);\n",
        "titles = ['Edu', 'Health', 'Support']\n",
        "for i, ax in enumerate(axs):\n",
        "    XX = gam.generate_X_grid(term=i)\n",
        "    ax.plot(XX[:, i], gam.partial_dependence(term=i, X=XX))\n",
        "    ax.plot(XX[:, i], gam.partial_dependence(term=i, X=XX, width=.95)[1], c='r', ls='--')\n",
        "    if i == 0:\n",
        "        ax.set_ylim(-30,70)\n",
        "    ax.set_title(titles[i]);\n"
      ],
      "id": "caa6eed2",
      "execution_count": null,
      "outputs": []
    }
  ],
  "metadata": {
    "kernelspec": {
      "name": "pymc_causal",
      "language": "python",
      "display_name": "pymc_causal"
    }
  },
  "nbformat": 4,
  "nbformat_minor": 5
}